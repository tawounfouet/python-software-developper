{
 "cells": [
  {
   "cell_type": "code",
   "execution_count": null,
   "id": "a136bd2b",
   "metadata": {},
   "outputs": [],
   "source": []
  },
  {
   "cell_type": "code",
   "execution_count": 2,
   "id": "a8bd9c0c",
   "metadata": {},
   "outputs": [],
   "source": []
  },
  {
   "cell_type": "code",
   "execution_count": 2,
   "id": "6a5c9afc",
   "metadata": {},
   "outputs": [],
   "source": [
    "import requests\n",
    "from bs4 import BeautifulSoup\n",
    "\n",
    "base_url = \"http://books.toscrape.com/catalogue/\" \n",
    "cat_url = \"http://books.toscrape.com/catalogue/category/books/sports-and-games_17/index.html\" \n",
    "parser = \"lxml\"\n",
    "res = requests.get(cat_url, parser)"
   ]
  },
  {
   "cell_type": "code",
   "execution_count": 14,
   "id": "cadcc7c4",
   "metadata": {},
   "outputs": [
    {
     "data": {
      "text/plain": [
       "'ISO-8859-1'"
      ]
     },
     "execution_count": 14,
     "metadata": {},
     "output_type": "execute_result"
    }
   ],
   "source": [
    "res.encoding"
   ]
  },
  {
   "cell_type": "code",
   "execution_count": 15,
   "id": "92cfd0d1",
   "metadata": {},
   "outputs": [],
   "source": [
    "res.encoding = \"utf-8\""
   ]
  },
  {
   "cell_type": "code",
   "execution_count": 16,
   "id": "e4f78d30",
   "metadata": {},
   "outputs": [
    {
     "data": {
      "text/plain": [
       "'utf-8'"
      ]
     },
     "execution_count": 16,
     "metadata": {},
     "output_type": "execute_result"
    }
   ],
   "source": [
    "res.encoding"
   ]
  },
  {
   "cell_type": "code",
   "execution_count": null,
   "id": "e6050c5f",
   "metadata": {},
   "outputs": [],
   "source": [
    "soup = BeautifulSoup(res.text)\n",
    "\n",
    "books = soup.find_all('li', class_=\"col-xs-6 col-sm-4 col-md-3 col-lg-3\")\n",
    "len(books)"
   ]
  },
  {
   "cell_type": "code",
   "execution_count": null,
   "id": "811176b4",
   "metadata": {},
   "outputs": [],
   "source": []
  },
  {
   "cell_type": "code",
   "execution_count": 17,
   "id": "da9079a8",
   "metadata": {},
   "outputs": [
    {
     "name": "stdout",
     "output_type": "stream",
     "text": [
      "http://books.toscrape.com/catalogue/the-book-of-basketball-the-nba-according-to-the-sports-guy_232/index.html\n",
      "http://books.toscrape.com/catalogue/friday-night-lights-a-town-a-team-and-a-dream_158/index.html\n",
      "http://books.toscrape.com/catalogue/sugar-rush-offensive-line-2_108/index.html\n",
      "http://books.toscrape.com/catalogue/settling-the-score-the-summer-games-1_50/index.html\n",
      "http://books.toscrape.com/catalogue/icing-aces-hockey-2_25/index.html\n"
     ]
    }
   ],
   "source": [
    "for book in books:\n",
    "    book_name = book.find('h3').text\n",
    "    book_link = book.find('h3').a[\"href\"]\n",
    "    full_name = book.find('h3').a[\"title\"]\n",
    "    full_link = base_url + book_link.lstrip(\"../../../\")\n",
    "    print(full_link) "
   ]
  },
  {
   "cell_type": "code",
   "execution_count": null,
   "id": "71884639",
   "metadata": {},
   "outputs": [],
   "source": []
  },
  {
   "cell_type": "code",
   "execution_count": null,
   "id": "78d63ac9",
   "metadata": {},
   "outputs": [],
   "source": []
  },
  {
   "cell_type": "code",
   "execution_count": 18,
   "id": "6ff09c9a",
   "metadata": {},
   "outputs": [],
   "source": [
    "import requests\n",
    "from bs4 import BeautifulSoup\n",
    "\n",
    "single_book_url = \"http://books.toscrape.com/catalogue/shopaholic-ties-the-knot-shopaholic-3_340/index.html\"\n",
    "\n",
    "def book_details(single_book_url,  parser = \"lxml\"):\n",
    "    \"\"\"\n",
    "    Collect book details from the given book url\n",
    "       \n",
    "    single_book_url:\n",
    "    parser : default parser\n",
    "    \"\"\"\n",
    "    res = requests.get(single_book_url, parser)\n",
    "    res.encoding = \"utf-8\"\n",
    "    \n",
    "    html_text = res.text\n",
    "    soup = BeautifulSoup(html_text)\n",
    "    \n",
    "    book_availability = soup.find_all(\"table\", class_=\"table table-striped\")[0].findAll('tr')[5].td.text\n",
    "    book_rating = soup.find_all(\"div\", class_=\"col-sm-6 product_main\")[0].findAll('p')[2].get('class')[1]\n",
    "    book_upc = soup.find_all(\"table\", class_=\"table table-striped\")[0].findAll('tr')[0].td.text\n",
    "    book_category = soup.find_all(\"ul\", class_=\"breadcrumb\")[0].findAll('a')[2].text\n",
    "    book_title = soup.find_all(\"div\", class_=\"col-sm-6 product_main\")[0].h1.text\n",
    "    book_price = soup.find_all(\"div\", class_=\"col-sm-6 product_main\")[0].p.text.lstrip(\"Â\")\n",
    "    book_desc = soup.find_all(\"p\")[3].text\n",
    "    book_img_link =  soup.find_all(\"div\", class_=\"item active\")[0].img['src']\n",
    "    full_book_img_link = \"http://books.toscrape.com/\" + book_img_link.lstrip(\"../../../\")\n",
    "        \n",
    "\n",
    "    book_infos = {\n",
    "        'book_upc': book_upc,\n",
    "        'book_category': book_category,\n",
    "        \"book_title\": str(book_title),\n",
    "        \"book_price\": book_price,\n",
    "        \"book_rating\": book_rating,\n",
    "        'book_availability': book_availability,\n",
    "        \"book_description\": str(book_desc),\n",
    "        \"book_img_link\": full_book_img_link,\n",
    "    }\n",
    "    \n",
    "    return book_infos\n",
    "\n",
    "#book_details(single_book_url,  parser = \"lxml\")"
   ]
  },
  {
   "cell_type": "code",
   "execution_count": 17,
   "id": "ec60ab8a",
   "metadata": {},
   "outputs": [
    {
     "data": {
      "text/plain": [
       "{'book_upc': '38199c5d7da0c0ef',\n",
       " 'book_category': 'Womens Fiction',\n",
       " 'book_title': 'Shopaholic Ties the Knot (Shopaholic #3)',\n",
       " 'book_price': '£48.39',\n",
       " 'book_rating': 'Five',\n",
       " 'book_availability': 'In stock (4 available)',\n",
       " 'book_description': 'Life has been good for Becky Bloomwood: She’s become the best personal shopper at Barneys, she and her successful entrepreneurial boyfriend, Luke, are living happily in Manhattan’s West Village, and her new next-door neighbor is a fashion designer! But with her best friend, Suze, engaged, how can Becky fail to notice that her own ring finger is bare? Not that she’s been th Life has been good for Becky Bloomwood: She’s become the best personal shopper at Barneys, she and her successful entrepreneurial boyfriend, Luke, are living happily in Manhattan’s West Village, and her new next-door neighbor is a fashion designer! But with her best friend, Suze, engaged, how can Becky fail to notice that her own ring finger is bare? Not that she’s been thinking of marriage (or diamonds) or anything . . . Then Luke proposes! Bridal registries dance in Becky’s head. Problem is, two other people are planning her wedding: Becky’s overjoyed mother has been waiting forever to host a backyard wedding, with the bride resplendent in Mum’s frilly old gown. While Luke’s high-society mother is insisting on a glamorous, all-expenses-paid affair at the Plaza. Both weddings for the same day. And Becky can’t seem to turn down either one. Can everyone’s favorite shopaholic tie the knot before everything unravels? ...more',\n",
       " 'book_img_link': 'http://books.toscrape.com/media/cache/d0/f8/d0f8f438caa5e7adc1c727da4f06ca64.jpg'}"
      ]
     },
     "execution_count": 17,
     "metadata": {},
     "output_type": "execute_result"
    }
   ],
   "source": [
    "dict_data = book_details(single_book_url,  parser = \"lxml\")\n",
    "dict_data"
   ]
  },
  {
   "cell_type": "code",
   "execution_count": 25,
   "id": "3d91c390",
   "metadata": {},
   "outputs": [],
   "source": [
    "import csv\n",
    "\n",
    "dict_data = []\n",
    "\n",
    "csv_columns = [\"book_upc\", \"book_category\", \"book_title\", \"book_price\", \"book_rating\", \"book_availability\", \n",
    "               \"book_availability\", \"book_description\", \"book_img_link\"]\n",
    "\n",
    "single_book_info = book_details(single_book_url,  parser = \"lxml\")\n",
    "dict_data.append(single_book_info)\n",
    "\n",
    "#dict_data\n",
    "\n",
    "csv_file = \"book_infos.csv\"\n",
    "\n",
    "try:\n",
    "    with open(csv_file, 'w') as csvfile:\n",
    "        writer = csv.DictWriter(csvfile, fieldnames=csv_columns)\n",
    "        writer.writeheader()\n",
    "        for data in dict_data:\n",
    "            writer.writerow(data)\n",
    "except IOError:\n",
    "    print(\"I/O error\")"
   ]
  },
  {
   "cell_type": "code",
   "execution_count": 27,
   "id": "edd8afce",
   "metadata": {},
   "outputs": [
    {
     "data": {
      "text/html": [
       "<div>\n",
       "<style scoped>\n",
       "    .dataframe tbody tr th:only-of-type {\n",
       "        vertical-align: middle;\n",
       "    }\n",
       "\n",
       "    .dataframe tbody tr th {\n",
       "        vertical-align: top;\n",
       "    }\n",
       "\n",
       "    .dataframe thead th {\n",
       "        text-align: right;\n",
       "    }\n",
       "</style>\n",
       "<table border=\"1\" class=\"dataframe\">\n",
       "  <thead>\n",
       "    <tr style=\"text-align: right;\">\n",
       "      <th></th>\n",
       "      <th>book_upc</th>\n",
       "      <th>book_category</th>\n",
       "      <th>book_title</th>\n",
       "      <th>book_price</th>\n",
       "      <th>book_rating</th>\n",
       "      <th>book_availability</th>\n",
       "      <th>book_availability.1</th>\n",
       "      <th>book_description</th>\n",
       "      <th>book_img_link</th>\n",
       "    </tr>\n",
       "  </thead>\n",
       "  <tbody>\n",
       "    <tr>\n",
       "      <th>0</th>\n",
       "      <td>38199c5d7da0c0ef</td>\n",
       "      <td>Womens Fiction</td>\n",
       "      <td>Shopaholic Ties the Knot (Shopaholic #3)</td>\n",
       "      <td>£48.39</td>\n",
       "      <td>Five</td>\n",
       "      <td>In stock (4 available)</td>\n",
       "      <td>In stock (4 available)</td>\n",
       "      <td>Life has been good for Becky Bloomwood: She’s ...</td>\n",
       "      <td>http://books.toscrape.com/media/cache/d0/f8/d0...</td>\n",
       "    </tr>\n",
       "  </tbody>\n",
       "</table>\n",
       "</div>"
      ],
      "text/plain": [
       "           book_upc   book_category                                book_title  \\\n",
       "0  38199c5d7da0c0ef  Womens Fiction  Shopaholic Ties the Knot (Shopaholic #3)   \n",
       "\n",
       "  book_price book_rating       book_availability     book_availability.1  \\\n",
       "0     £48.39        Five  In stock (4 available)  In stock (4 available)   \n",
       "\n",
       "                                    book_description  \\\n",
       "0  Life has been good for Becky Bloomwood: She’s ...   \n",
       "\n",
       "                                       book_img_link  \n",
       "0  http://books.toscrape.com/media/cache/d0/f8/d0...  "
      ]
     },
     "execution_count": 27,
     "metadata": {},
     "output_type": "execute_result"
    }
   ],
   "source": [
    "import pandas as pd\n",
    "\n",
    "pd.read_csv(\"book_infos.csv\")"
   ]
  },
  {
   "cell_type": "code",
   "execution_count": null,
   "id": "6a6ee189",
   "metadata": {},
   "outputs": [],
   "source": []
  },
  {
   "cell_type": "code",
   "execution_count": null,
   "id": "8a3838c7",
   "metadata": {},
   "outputs": [],
   "source": []
  },
  {
   "cell_type": "code",
   "execution_count": null,
   "id": "2d22462f",
   "metadata": {},
   "outputs": [],
   "source": []
  },
  {
   "cell_type": "code",
   "execution_count": 82,
   "id": "34497584",
   "metadata": {},
   "outputs": [
    {
     "data": {
      "text/plain": [
       "51"
      ]
     },
     "execution_count": 82,
     "metadata": {},
     "output_type": "execute_result"
    }
   ],
   "source": [
    "import requests\n",
    "from bs4 import BeautifulSoup\n",
    "    \n",
    "base_url = \"http://books.toscrape.com/catalogue/\" \n",
    "home_url = \"http://books.toscrape.com/index.html\" \n",
    "parser = \"lxml\"\n",
    "res = requests.get(home_url, parser)\n",
    "\n",
    "\n",
    "soup = BeautifulSoup(res.text)\n",
    "\n",
    "categories = soup.find_all('ul', class_=\"nav nav-list\")[0].findAll('li')\n",
    "len(categories)"
   ]
  },
  {
   "cell_type": "code",
   "execution_count": 16,
   "id": "5e66cef4",
   "metadata": {},
   "outputs": [],
   "source": [
    "def category_extractor(home_url = \"http://books.toscrape.com/index.html\",\n",
    "                       base_url = \"http://books.toscrape.com/\", \n",
    "                       parser = \"lxml\"):\n",
    "    \n",
    "    \"\"\" Fonction permettant d'extraire les catégories de livres \n",
    "    \n",
    "    home_url: lien pour acceder à la page d'acceuil du site\n",
    "    base_url: lien de base qui servira à la concaténation\n",
    "    \"\"\"\n",
    "    \n",
    "    import requests\n",
    "    from bs4 import BeautifulSoup\n",
    "    import pandas as pd \n",
    "    \n",
    "    res = requests.get(home_url, parser)\n",
    "    soup = BeautifulSoup(res.text)\n",
    "    \n",
    "    cat_links = []\n",
    "    cat_names = []\n",
    "    cat_infos = {}\n",
    "\n",
    "    categories_tags = soup.find_all('ul', class_=\"nav nav-list\")[0].findAll('li')\n",
    "    for category in categories_tags[1:]:\n",
    "        cat_link = category.find('a')['href']\n",
    "        cat_full_link = base_url + cat_link\n",
    "        cat_name = category.find('a').text.strip(\" \\n  \")\n",
    "        cat_info = {str(cat_name) : cat_full_link}\n",
    "            \n",
    "        cat_links.append(cat_full_link)\n",
    "        cat_names.append(cat_name)\n",
    "        cat_infos.update(cat_info)\n",
    "    \n",
    "        categories_data = pd.DataFrame.from_dict(data=cat_infos, orient='index', columns=['urls'])\n",
    "                                                 \n",
    "    #cat_links_f = cat_links[1:]\n",
    "    #cat_links_f\n",
    "    \n",
    "    \n",
    "    return cat_links, cat_names, cat_infos, categories_data"
   ]
  },
  {
   "cell_type": "code",
   "execution_count": 17,
   "id": "810d50a4",
   "metadata": {},
   "outputs": [
    {
     "data": {
      "text/plain": [
       "['http://books.toscrape.com/catalogue/category/books/travel_2/index.html',\n",
       " 'http://books.toscrape.com/catalogue/category/books/mystery_3/index.html',\n",
       " 'http://books.toscrape.com/catalogue/category/books/historical-fiction_4/index.html',\n",
       " 'http://books.toscrape.com/catalogue/category/books/sequential-art_5/index.html',\n",
       " 'http://books.toscrape.com/catalogue/category/books/classics_6/index.html',\n",
       " 'http://books.toscrape.com/catalogue/category/books/philosophy_7/index.html',\n",
       " 'http://books.toscrape.com/catalogue/category/books/romance_8/index.html',\n",
       " 'http://books.toscrape.com/catalogue/category/books/womens-fiction_9/index.html',\n",
       " 'http://books.toscrape.com/catalogue/category/books/fiction_10/index.html',\n",
       " 'http://books.toscrape.com/catalogue/category/books/childrens_11/index.html',\n",
       " 'http://books.toscrape.com/catalogue/category/books/religion_12/index.html',\n",
       " 'http://books.toscrape.com/catalogue/category/books/nonfiction_13/index.html',\n",
       " 'http://books.toscrape.com/catalogue/category/books/music_14/index.html',\n",
       " 'http://books.toscrape.com/catalogue/category/books/default_15/index.html',\n",
       " 'http://books.toscrape.com/catalogue/category/books/science-fiction_16/index.html',\n",
       " 'http://books.toscrape.com/catalogue/category/books/sports-and-games_17/index.html',\n",
       " 'http://books.toscrape.com/catalogue/category/books/add-a-comment_18/index.html',\n",
       " 'http://books.toscrape.com/catalogue/category/books/fantasy_19/index.html',\n",
       " 'http://books.toscrape.com/catalogue/category/books/new-adult_20/index.html',\n",
       " 'http://books.toscrape.com/catalogue/category/books/young-adult_21/index.html',\n",
       " 'http://books.toscrape.com/catalogue/category/books/science_22/index.html',\n",
       " 'http://books.toscrape.com/catalogue/category/books/poetry_23/index.html',\n",
       " 'http://books.toscrape.com/catalogue/category/books/paranormal_24/index.html',\n",
       " 'http://books.toscrape.com/catalogue/category/books/art_25/index.html',\n",
       " 'http://books.toscrape.com/catalogue/category/books/psychology_26/index.html',\n",
       " 'http://books.toscrape.com/catalogue/category/books/autobiography_27/index.html',\n",
       " 'http://books.toscrape.com/catalogue/category/books/parenting_28/index.html',\n",
       " 'http://books.toscrape.com/catalogue/category/books/adult-fiction_29/index.html',\n",
       " 'http://books.toscrape.com/catalogue/category/books/humor_30/index.html',\n",
       " 'http://books.toscrape.com/catalogue/category/books/horror_31/index.html',\n",
       " 'http://books.toscrape.com/catalogue/category/books/history_32/index.html',\n",
       " 'http://books.toscrape.com/catalogue/category/books/food-and-drink_33/index.html',\n",
       " 'http://books.toscrape.com/catalogue/category/books/christian-fiction_34/index.html',\n",
       " 'http://books.toscrape.com/catalogue/category/books/business_35/index.html',\n",
       " 'http://books.toscrape.com/catalogue/category/books/biography_36/index.html',\n",
       " 'http://books.toscrape.com/catalogue/category/books/thriller_37/index.html',\n",
       " 'http://books.toscrape.com/catalogue/category/books/contemporary_38/index.html',\n",
       " 'http://books.toscrape.com/catalogue/category/books/spirituality_39/index.html',\n",
       " 'http://books.toscrape.com/catalogue/category/books/academic_40/index.html',\n",
       " 'http://books.toscrape.com/catalogue/category/books/self-help_41/index.html',\n",
       " 'http://books.toscrape.com/catalogue/category/books/historical_42/index.html',\n",
       " 'http://books.toscrape.com/catalogue/category/books/christian_43/index.html',\n",
       " 'http://books.toscrape.com/catalogue/category/books/suspense_44/index.html',\n",
       " 'http://books.toscrape.com/catalogue/category/books/short-stories_45/index.html',\n",
       " 'http://books.toscrape.com/catalogue/category/books/novels_46/index.html',\n",
       " 'http://books.toscrape.com/catalogue/category/books/health_47/index.html',\n",
       " 'http://books.toscrape.com/catalogue/category/books/politics_48/index.html',\n",
       " 'http://books.toscrape.com/catalogue/category/books/cultural_49/index.html',\n",
       " 'http://books.toscrape.com/catalogue/category/books/erotica_50/index.html',\n",
       " 'http://books.toscrape.com/catalogue/category/books/crime_51/index.html']"
      ]
     },
     "execution_count": 17,
     "metadata": {},
     "output_type": "execute_result"
    }
   ],
   "source": [
    "links, categories, infos, data = category_extractor()\n",
    "links"
   ]
  },
  {
   "cell_type": "code",
   "execution_count": null,
   "id": "b3a59bf4",
   "metadata": {},
   "outputs": [],
   "source": []
  }
 ],
 "metadata": {
  "kernelspec": {
   "display_name": "Python 3 (ipykernel)",
   "language": "python",
   "name": "python3"
  },
  "language_info": {
   "codemirror_mode": {
    "name": "ipython",
    "version": 3
   },
   "file_extension": ".py",
   "mimetype": "text/x-python",
   "name": "python",
   "nbconvert_exporter": "python",
   "pygments_lexer": "ipython3",
   "version": "3.10.9"
  }
 },
 "nbformat": 4,
 "nbformat_minor": 5
}
