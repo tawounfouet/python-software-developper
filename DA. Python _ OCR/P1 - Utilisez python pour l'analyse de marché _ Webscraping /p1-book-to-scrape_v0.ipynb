{
 "cells": [
  {
   "cell_type": "code",
   "execution_count": null,
   "id": "a136bd2b",
   "metadata": {},
   "outputs": [],
   "source": []
  },
  {
   "cell_type": "code",
   "execution_count": 9,
   "id": "a8bd9c0c",
   "metadata": {},
   "outputs": [],
   "source": [
    "import requests\n",
    "from bs4 import BeautifulSoup\n"
   ]
  },
  {
   "cell_type": "code",
   "execution_count": 13,
   "id": "6a5c9afc",
   "metadata": {},
   "outputs": [],
   "source": [
    "base_url = \"http://books.toscrape.com/catalogue/\" \n",
    "cat_url = \"http://books.toscrape.com/catalogue/category/books/sports-and-games_17/index.html\" \n",
    "parser = \"lxml\"\n",
    "res = requests.get(cat_url, parser)"
   ]
  },
  {
   "cell_type": "code",
   "execution_count": 14,
   "id": "cadcc7c4",
   "metadata": {},
   "outputs": [
    {
     "data": {
      "text/plain": [
       "'ISO-8859-1'"
      ]
     },
     "execution_count": 14,
     "metadata": {},
     "output_type": "execute_result"
    }
   ],
   "source": [
    "res.encoding"
   ]
  },
  {
   "cell_type": "code",
   "execution_count": 15,
   "id": "92cfd0d1",
   "metadata": {},
   "outputs": [],
   "source": [
    "res.encoding = \"utf-8\""
   ]
  },
  {
   "cell_type": "code",
   "execution_count": 16,
   "id": "e4f78d30",
   "metadata": {},
   "outputs": [
    {
     "data": {
      "text/plain": [
       "'utf-8'"
      ]
     },
     "execution_count": 16,
     "metadata": {},
     "output_type": "execute_result"
    }
   ],
   "source": [
    "res.encoding"
   ]
  },
  {
   "cell_type": "code",
   "execution_count": null,
   "id": "e6050c5f",
   "metadata": {},
   "outputs": [],
   "source": [
    "soup = BeautifulSoup(res.text)\n",
    "\n",
    "books = soup.find_all('li', class_=\"col-xs-6 col-sm-4 col-md-3 col-lg-3\")\n",
    "len(books)"
   ]
  },
  {
   "cell_type": "code",
   "execution_count": null,
   "id": "811176b4",
   "metadata": {},
   "outputs": [],
   "source": []
  },
  {
   "cell_type": "code",
   "execution_count": 17,
   "id": "da9079a8",
   "metadata": {},
   "outputs": [
    {
     "name": "stdout",
     "output_type": "stream",
     "text": [
      "http://books.toscrape.com/catalogue/the-book-of-basketball-the-nba-according-to-the-sports-guy_232/index.html\n",
      "http://books.toscrape.com/catalogue/friday-night-lights-a-town-a-team-and-a-dream_158/index.html\n",
      "http://books.toscrape.com/catalogue/sugar-rush-offensive-line-2_108/index.html\n",
      "http://books.toscrape.com/catalogue/settling-the-score-the-summer-games-1_50/index.html\n",
      "http://books.toscrape.com/catalogue/icing-aces-hockey-2_25/index.html\n"
     ]
    }
   ],
   "source": [
    "for book in books:\n",
    "    book_name = book.find('h3').text\n",
    "    book_link = book.find('h3').a[\"href\"]\n",
    "    full_name = book.find('h3').a[\"title\"]\n",
    "    full_link = base_url + book_link.lstrip(\"../../../\")\n",
    "    print(full_link) "
   ]
  },
  {
   "cell_type": "code",
   "execution_count": null,
   "id": "71884639",
   "metadata": {},
   "outputs": [],
   "source": []
  },
  {
   "cell_type": "code",
   "execution_count": null,
   "id": "78d63ac9",
   "metadata": {},
   "outputs": [],
   "source": []
  },
  {
   "cell_type": "code",
   "execution_count": 21,
   "id": "6ff09c9a",
   "metadata": {},
   "outputs": [
    {
     "data": {
      "text/plain": [
       "{'book_upc': '38199c5d7da0c0ef',\n",
       " 'book_category': 'Womens Fiction',\n",
       " 'book_title': 'Shopaholic Ties the Knot (Shopaholic #3)',\n",
       " 'book_price': '£48.39',\n",
       " 'book_rating': 'Five',\n",
       " 'book_availability': 'In stock (4 available)',\n",
       " 'book_description': 'Life has been good for Becky Bloomwood: She’s become the best personal shopper at Barneys, she and her successful entrepreneurial boyfriend, Luke, are living happily in Manhattan’s West Village, and her new next-door neighbor is a fashion designer! But with her best friend, Suze, engaged, how can Becky fail to notice that her own ring finger is bare? Not that she’s been th Life has been good for Becky Bloomwood: She’s become the best personal shopper at Barneys, she and her successful entrepreneurial boyfriend, Luke, are living happily in Manhattan’s West Village, and her new next-door neighbor is a fashion designer! But with her best friend, Suze, engaged, how can Becky fail to notice that her own ring finger is bare? Not that she’s been thinking of marriage (or diamonds) or anything . . . Then Luke proposes! Bridal registries dance in Becky’s head. Problem is, two other people are planning her wedding: Becky’s overjoyed mother has been waiting forever to host a backyard wedding, with the bride resplendent in Mum’s frilly old gown. While Luke’s high-society mother is insisting on a glamorous, all-expenses-paid affair at the Plaza. Both weddings for the same day. And Becky can’t seem to turn down either one. Can everyone’s favorite shopaholic tie the knot before everything unravels? ...more',\n",
       " 'book_img_link': 'http://books.toscrape.com/media/cache/d0/f8/d0f8f438caa5e7adc1c727da4f06ca64.jpg'}"
      ]
     },
     "execution_count": 21,
     "metadata": {},
     "output_type": "execute_result"
    }
   ],
   "source": [
    "single_book_url = \"http://books.toscrape.com/catalogue/shopaholic-ties-the-knot-shopaholic-3_340/index.html\"\n",
    "\n",
    "def book_details(single_book_url,  parser = \"lxml\"):\n",
    "   \"\"\"Collect book details from the given book url\n",
    "       single_book_url:\n",
    "       parser : default parser\n",
    "   \n",
    "   \"\"\"\n",
    "    res = requests.get(single_book_url, parser)\n",
    "    res.encoding = \"utf-8\"\n",
    "    \n",
    "    html_text = res.text\n",
    "    soup = BeautifulSoup(html_text)\n",
    "    \n",
    "    book_availability = soup.find_all(\"table\", class_=\"table table-striped\")[0].findAll('tr')[5].td.text\n",
    "    book_rating = soup.find_all(\"div\", class_=\"col-sm-6 product_main\")[0].findAll('p')[2].get('class')[1]\n",
    "    book_upc = soup.find_all(\"table\", class_=\"table table-striped\")[0].findAll('tr')[0].td.text\n",
    "    book_category = soup.find_all(\"ul\", class_=\"breadcrumb\")[0].findAll('a')[2].text\n",
    "    book_title = soup.find_all(\"div\", class_=\"col-sm-6 product_main\")[0].h1.text\n",
    "    book_price = soup.find_all(\"div\", class_=\"col-sm-6 product_main\")[0].p.text.lstrip(\"Â\")\n",
    "    book_desc = soup.find_all(\"p\")[3].text\n",
    "    book_img_link =  soup.find_all(\"div\", class_=\"item active\")[0].img['src']\n",
    "    full_book_img_link = \"http://books.toscrape.com/\" + book_img_link.lstrip(\"../../../\")\n",
    "        \n",
    "\n",
    "    book_infos = {\n",
    "        'book_upc': book_upc,\n",
    "        'book_category': book_category,\n",
    "        \"book_title\": str(book_title),\n",
    "        \"book_price\": book_price,\n",
    "        \"book_rating\": book_rating,\n",
    "        'book_availability': book_availability,\n",
    "        \"book_description\": str(book_desc),\n",
    "        \"book_img_link\": full_book_img_link,\n",
    "    }\n",
    "    \n",
    "    return book_infos\n",
    "\n",
    "book_details(single_book_url,  parser = \"lxml\")"
   ]
  },
  {
   "cell_type": "code",
   "execution_count": null,
   "id": "2d22462f",
   "metadata": {},
   "outputs": [],
   "source": []
  }
 ],
 "metadata": {
  "kernelspec": {
   "display_name": "Python 3 (ipykernel)",
   "language": "python",
   "name": "python3"
  },
  "language_info": {
   "codemirror_mode": {
    "name": "ipython",
    "version": 3
   },
   "file_extension": ".py",
   "mimetype": "text/x-python",
   "name": "python",
   "nbconvert_exporter": "python",
   "pygments_lexer": "ipython3",
   "version": "3.10.9"
  }
 },
 "nbformat": 4,
 "nbformat_minor": 5
}
